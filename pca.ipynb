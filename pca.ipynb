{
 "cells": [
  {
   "cell_type": "code",
   "execution_count": 2,
   "id": "848fa9e4",
   "metadata": {},
   "outputs": [
    {
     "name": "stderr",
     "output_type": "stream",
     "text": [
      "C:\\Python310\\lib\\site-packages\\tqdm\\auto.py:22: TqdmWarning: IProgress not found. Please update jupyter and ipywidgets. See https://ipywidgets.readthedocs.io/en/stable/user_install.html\n",
      "  from .autonotebook import tqdm as notebook_tqdm\n"
     ]
    }
   ],
   "source": [
    "import os\n",
    "import torch"
   ]
  },
  {
   "cell_type": "code",
   "execution_count": 4,
   "id": "c8d42930",
   "metadata": {},
   "outputs": [],
   "source": [
    "from torchvision import datasets"
   ]
  },
  {
   "cell_type": "code",
   "execution_count": 10,
   "id": "ab59a114",
   "metadata": {},
   "outputs": [],
   "source": [
    "from sklearn.preprocessing import StandardScaler"
   ]
  },
  {
   "cell_type": "code",
   "execution_count": 12,
   "id": "4cb6265c",
   "metadata": {},
   "outputs": [],
   "source": [
    "from sklearn.decomposition import PCA"
   ]
  },
  {
   "cell_type": "code",
   "execution_count": 14,
   "id": "6c5343ed",
   "metadata": {},
   "outputs": [],
   "source": [
    "import matplotlib.pyplot as plt"
   ]
  },
  {
   "cell_type": "code",
   "execution_count": 16,
   "id": "ce1c3d50",
   "metadata": {},
   "outputs": [],
   "source": [
    "import numpy as np"
   ]
  },
  {
   "cell_type": "code",
   "execution_count": 25,
   "id": "41179a95",
   "metadata": {},
   "outputs": [],
   "source": [
    "import seaborn as sns"
   ]
  },
  {
   "cell_type": "code",
   "execution_count": 3,
   "id": "ab3b50fd",
   "metadata": {},
   "outputs": [],
   "source": [
    "DATA_DIR = \"./data\"\n",
    "DEVICE = \"cuda\" if torch.cuda.is_available() else \"cpu\""
   ]
  },
  {
   "cell_type": "code",
   "execution_count": 7,
   "id": "4503093a",
   "metadata": {},
   "outputs": [],
   "source": [
    "N_COMP = 120\n",
    "SAMPLE_INDEX = 1"
   ]
  },
  {
   "cell_type": "markdown",
   "id": "4398e91f",
   "metadata": {},
   "source": [
    "## Download Dataset"
   ]
  },
  {
   "cell_type": "code",
   "execution_count": 5,
   "id": "1ea515e6",
   "metadata": {},
   "outputs": [
    {
     "name": "stdout",
     "output_type": "stream",
     "text": [
      "Downloading http://fashion-mnist.s3-website.eu-central-1.amazonaws.com/train-images-idx3-ubyte.gz\n",
      "Downloading http://fashion-mnist.s3-website.eu-central-1.amazonaws.com/train-images-idx3-ubyte.gz to ./data\\FashionMNIST\\raw\\train-images-idx3-ubyte.gz\n"
     ]
    },
    {
     "name": "stderr",
     "output_type": "stream",
     "text": [
      "100%|███████████████████████████████████████████████████████████████████| 26421880/26421880 [05:51<00:00, 75126.24it/s]\n"
     ]
    },
    {
     "name": "stdout",
     "output_type": "stream",
     "text": [
      "Extracting ./data\\FashionMNIST\\raw\\train-images-idx3-ubyte.gz to ./data\\FashionMNIST\\raw\n",
      "\n",
      "Downloading http://fashion-mnist.s3-website.eu-central-1.amazonaws.com/train-labels-idx1-ubyte.gz\n",
      "Downloading http://fashion-mnist.s3-website.eu-central-1.amazonaws.com/train-labels-idx1-ubyte.gz to ./data\\FashionMNIST\\raw\\train-labels-idx1-ubyte.gz\n"
     ]
    },
    {
     "name": "stderr",
     "output_type": "stream",
     "text": [
      "100%|████████████████████████████████████████████████████████████████████████| 29515/29515 [00:00<00:00, 169480.34it/s]\n"
     ]
    },
    {
     "name": "stdout",
     "output_type": "stream",
     "text": [
      "Extracting ./data\\FashionMNIST\\raw\\train-labels-idx1-ubyte.gz to ./data\\FashionMNIST\\raw\n",
      "\n",
      "Downloading http://fashion-mnist.s3-website.eu-central-1.amazonaws.com/t10k-images-idx3-ubyte.gz\n",
      "Downloading http://fashion-mnist.s3-website.eu-central-1.amazonaws.com/t10k-images-idx3-ubyte.gz to ./data\\FashionMNIST\\raw\\t10k-images-idx3-ubyte.gz\n"
     ]
    },
    {
     "name": "stderr",
     "output_type": "stream",
     "text": [
      "100%|█████████████████████████████████████████████████████████████████████| 4422102/4422102 [01:39<00:00, 44367.91it/s]\n"
     ]
    },
    {
     "name": "stdout",
     "output_type": "stream",
     "text": [
      "Extracting ./data\\FashionMNIST\\raw\\t10k-images-idx3-ubyte.gz to ./data\\FashionMNIST\\raw\n",
      "\n",
      "Downloading http://fashion-mnist.s3-website.eu-central-1.amazonaws.com/t10k-labels-idx1-ubyte.gz\n",
      "Downloading http://fashion-mnist.s3-website.eu-central-1.amazonaws.com/t10k-labels-idx1-ubyte.gz to ./data\\FashionMNIST\\raw\\t10k-labels-idx1-ubyte.gz\n"
     ]
    },
    {
     "name": "stderr",
     "output_type": "stream",
     "text": [
      "100%|█████████████████████████████████████████████████████████████████████████| 5148/5148 [00:00<00:00, 5209234.50it/s]"
     ]
    },
    {
     "name": "stdout",
     "output_type": "stream",
     "text": [
      "Extracting ./data\\FashionMNIST\\raw\\t10k-labels-idx1-ubyte.gz to ./data\\FashionMNIST\\raw\n",
      "\n"
     ]
    },
    {
     "name": "stderr",
     "output_type": "stream",
     "text": [
      "\n"
     ]
    }
   ],
   "source": [
    "train_data = datasets.FashionMNIST(\n",
    "    root=DATA_DIR,\n",
    "    train=True, \n",
    "    download=True)"
   ]
  },
  {
   "cell_type": "markdown",
   "id": "68e6f09c",
   "metadata": {},
   "source": [
    "## Load Dataset"
   ]
  },
  {
   "cell_type": "code",
   "execution_count": 6,
   "id": "e08ae5a9",
   "metadata": {},
   "outputs": [],
   "source": [
    "def load_mnist(path, kind='train'):\n",
    "    import os\n",
    "    import gzip\n",
    "    import numpy as np\n",
    "\n",
    "    \"\"\"Load MNIST data from `path`\"\"\"\n",
    "    labels_path = os.path.join(path,\n",
    "                               '%s-labels-idx1-ubyte.gz'\n",
    "                               % kind)\n",
    "    images_path = os.path.join(path,\n",
    "                               '%s-images-idx3-ubyte.gz'\n",
    "                               % kind)\n",
    "\n",
    "    with gzip.open(labels_path, 'rb') as lbpath:\n",
    "        labels = np.frombuffer(lbpath.read(), dtype=np.uint8,\n",
    "                               offset=8)\n",
    "\n",
    "    with gzip.open(images_path, 'rb') as imgpath:\n",
    "        images = np.frombuffer(imgpath.read(), dtype=np.uint8,\n",
    "                               offset=16).reshape(len(labels), 784)\n",
    "\n",
    "    return images, labels"
   ]
  },
  {
   "cell_type": "code",
   "execution_count": 9,
   "id": "dbdcfed6",
   "metadata": {},
   "outputs": [
    {
     "name": "stdout",
     "output_type": "stream",
     "text": [
      "Design matrix size: {} (60000, 784)\n"
     ]
    }
   ],
   "source": [
    "X, _ = load_mnist('./data/FashionMNIST/raw', kind='train')\n",
    "print('Design matrix size: {}', format(X.shape))"
   ]
  },
  {
   "cell_type": "markdown",
   "id": "0140b326",
   "metadata": {},
   "source": [
    "## Normalize Features"
   ]
  },
  {
   "cell_type": "code",
   "execution_count": 11,
   "id": "f7e122fb",
   "metadata": {},
   "outputs": [],
   "source": [
    "# Normalize features\n",
    "scaler = StandardScaler()\n",
    "X_norm = scaler.fit_transform(X)"
   ]
  },
  {
   "cell_type": "markdown",
   "id": "867baaee",
   "metadata": {},
   "source": [
    "## Perform PCA"
   ]
  },
  {
   "cell_type": "code",
   "execution_count": 13,
   "id": "2ade7603",
   "metadata": {},
   "outputs": [],
   "source": [
    "# Apply PCA\n",
    "pca = PCA(n_components=N_COMP)\n",
    "X_norm_r = pca.fit(X_norm).transform(X_norm)"
   ]
  },
  {
   "cell_type": "code",
   "execution_count": 28,
   "id": "27471999",
   "metadata": {},
   "outputs": [
    {
     "data": {
      "text/plain": [
       "Text(0.5, 1.0, 'Component-wise and Cumulative Explained Variance')"
      ]
     },
     "execution_count": 28,
     "metadata": {},
     "output_type": "execute_result"
    },
    {
     "data": {
      "image/png": "[encoded data removed]",
      "text/plain": [
       "<Figure size 640x480 with 1 Axes>"
      ]
     },
     "metadata": {},
     "output_type": "display_data"
    }
   ],
   "source": [
    "# Plot Component-wise and Cumulative Explained Variance:\n",
    "plt.subplot(1,1,1)\n",
    "plt.plot(range(N_COMP), pca.explained_variance_ratio_)\n",
    "plt.plot(range(N_COMP), np.cumsum(pca.explained_variance_ratio_))\n",
    "plt.title(\"Component-wise and Cumulative Explained Variance\")"
   ]
  },
  {
   "cell_type": "markdown",
   "id": "0058cdfd",
   "metadata": {},
   "source": [
    "With less than 200 components (horizontal axis) the cumulative explained variance is already greater than 95% of the total."
   ]
  },
  {
   "cell_type": "code",
   "execution_count": 20,
   "id": "ddf6ce58",
   "metadata": {},
   "outputs": [],
   "source": [
    "# Invert PCA to obtain the image with the new components\n",
    "inversed = pca.inverse_transform(X_norm_r[SAMPLE_INDEX, :])"
   ]
  },
  {
   "cell_type": "code",
   "execution_count": 23,
   "id": "3793d31d",
   "metadata": {},
   "outputs": [],
   "source": [
    "inversed = scaler.inverse_transform([inversed])"
   ]
  },
  {
   "cell_type": "code",
   "execution_count": 24,
   "id": "18d135a2",
   "metadata": {},
   "outputs": [],
   "source": [
    "# Compute PCA to get the last components (in order of decreasing variance)\n",
    "X_norm = X_norm.T\n",
    "\n",
    "S = X_norm @ X_norm.T\n",
    "eigvals, eigvecs = np.linalg.eig(S)\n",
    "order = np.argsort(eigvals)\n",
    "B = eigvecs[:, order[:N_COMP]]\n",
    "\n",
    "C = B.T @ X_norm\n",
    "\n",
    "X_rec = B @ C\n",
    "\n",
    "X_rec = X_rec.T\n",
    "X_rec = scaler.inverse_transform(X_rec)"
   ]
  },
  {
   "cell_type": "code",
   "execution_count": 27,
   "id": "d01f5252",
   "metadata": {
    "scrolled": true
   },
   "outputs": [
    {
     "data": {
      "image/png": "[encoded data removed]",
      "text/plain": [
       "<Figure size 1200x400 with 6 Axes>"
      ]
     },
     "metadata": {},
     "output_type": "display_data"
    }
   ],
   "source": [
    "#Plot images:\n",
    "fig, axarr = plt.subplots(1, 3, figsize=(12, 4))\n",
    "sns.heatmap(X[SAMPLE_INDEX, :].reshape(28, 28), cmap='gray_r', ax=axarr[0])\n",
    "sns.heatmap(inversed.reshape(28, 28), cmap='gray_r', ax=axarr[1])\n",
    "sns.heatmap(X_rec[SAMPLE_INDEX, :].reshape(28, 28), cmap='gray_r', ax=axarr[2])\n",
    "axarr[0].set_title(\"Original image\\n({} components)\".format(X.shape[1]), fontsize=12)\n",
    "axarr[1].set_title(\"First {} components image\".format(N_COMP), fontsize=12)\n",
    "axarr[2].set_title(\"Last {} components image\".format(N_COMP), fontsize=12)\n",
    "axarr[0].set_aspect('equal')\n",
    "axarr[1].set_aspect('equal')\n",
    "axarr[2].set_aspect('equal')\n",
    "axarr[0].axis('off')\n",
    "axarr[1].axis('off')\n",
    "axarr[2].axis('off')\n",
    "\n",
    "plt.show()"
   ]
  },
  {
   "cell_type": "markdown",
   "id": "77b9256d",
   "metadata": {},
   "source": [
    "The image obtained using 120 components (center) looks very similar to the original image even though is represented in a subspace with a number of dimensions that is only 15.3% the number of the original dimensions. On the contrary the last 120 components carry almost no information."
   ]
  },
  {
   "cell_type": "markdown",
   "id": "8865e1c5",
   "metadata": {},
   "source": [
    "References:\n",
    "1. https://colab.research.google.com/drive/1N5ytOJs3HmAsVkW64A_jJT8oaBp31Yyn#scrollTo=nUOEogGnKwVm\n",
    "2. https://github.com/zalandoresearch/fashion-mnist/blob/master/utils/mnist_reader.py\n",
    "3. https://medium.com/deepdreaming/understanding-your-data-principal-component-analysis-86111bc9df37"
   ]
  }
 ],
 "metadata": {
  "kernelspec": {
   "display_name": "Python 3 (ipykernel)",
   "language": "python",
   "name": "python3"
  },
  "language_info": {
   "codemirror_mode": {
    "name": "ipython",
    "version": 3
   },
   "file_extension": ".py",
   "mimetype": "text/x-python",
   "name": "python",
   "nbconvert_exporter": "python",
   "pygments_lexer": "ipython3",
   "version": "3.10.8"
  }
 },
 "nbformat": 4,
 "nbformat_minor": 5
}
